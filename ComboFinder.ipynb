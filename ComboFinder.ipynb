{
  "nbformat": 4,
  "nbformat_minor": 0,
  "metadata": {
    "colab": {
      "name": "ComboFinder.ipynb",
      "provenance": [],
      "authorship_tag": "ABX9TyMEa6/z2tgyZHkQakhXJnGe",
      "include_colab_link": true
    },
    "kernelspec": {
      "name": "python3",
      "display_name": "Python 3"
    },
    "language_info": {
      "name": "python"
    }
  },
  "cells": [
    {
      "cell_type": "markdown",
      "metadata": {
        "id": "view-in-github",
        "colab_type": "text"
      },
      "source": [
        "<a href=\"https://colab.research.google.com/github/Muskankapila016/Python-/blob/main/ComboFinder.ipynb\" target=\"_parent\"><img src=\"https://colab.research.google.com/assets/colab-badge.svg\" alt=\"Open In Colab\"/></a>"
      ]
    },
    {
      "cell_type": "code",
      "execution_count": null,
      "metadata": {
        "id": "IBlt594hsnx2"
      },
      "outputs": [],
      "source": [
        "#Find all the list of products whose sum-of-price is between 290 and 310"
      ]
    },
    {
      "cell_type": "code",
      "source": [
        "import random as r \n",
        "ProductList = {'p1':10, 'p2':15, 'p3':20, 'p4':25, 'p5':30, 'p6':35, 'p7':50,\n",
        "               'p8':40, 'p9':55, 'p10':60, 'p11':65, 'p12':75, 'p13':70,\n",
        "               'p14':45}"
      ],
      "metadata": {
        "id": "8zW9io4ttEMa"
      },
      "execution_count": 9,
      "outputs": []
    },
    {
      "cell_type": "code",
      "source": [
        "iterations =100\n",
        "resultset=set()\n",
        "setlb=290\n",
        "setub=310"
      ],
      "metadata": {
        "id": "zVj5u62ls2ei"
      },
      "execution_count": 10,
      "outputs": []
    },
    {
      "cell_type": "code",
      "source": [
        "for i in range(iterations):\n",
        "    size=r.randint(2,len(ProductList)-1)\n",
        "    combolist=r.sample(list(ProductList.keys()),size)\n",
        "    combolist.sort()\n",
        "    combosum=sum([ProductList[i] for i in combolist])\n",
        "    if combosum >=setlb and combosum <= 310:\n",
        "        resultset.add(tuple(combolist))"
      ],
      "metadata": {
        "id": "sx3IvTs3s4_Z"
      },
      "execution_count": 16,
      "outputs": []
    },
    {
      "cell_type": "code",
      "source": [
        "for n in resultset:\n",
        "    print(n)\n",
        "           "
      ],
      "metadata": {
        "colab": {
          "base_uri": "https://localhost:8080/"
        },
        "id": "lXpW2qI8s5Cv",
        "outputId": "7989eb1d-c73c-4a7e-e982-6a817f354a91"
      },
      "execution_count": 17,
      "outputs": [
        {
          "output_type": "stream",
          "name": "stdout",
          "text": [
            "('p11', 'p13', 'p14', 'p4', 'p8', 'p9')\n",
            "('p12', 'p13', 'p3', 'p4', 'p7', 'p9')\n",
            "('p1', 'p10', 'p11', 'p13', 'p2', 'p4', 'p7')\n",
            "('p1', 'p10', 'p11', 'p13', 'p2', 'p3', 'p5', 'p6')\n",
            "('p10', 'p12', 'p13', 'p14', 'p7')\n",
            "('p12', 'p13', 'p14', 'p2', 'p8', 'p9')\n",
            "('p10', 'p12', 'p14', 'p6', 'p7', 'p8')\n",
            "('p11', 'p13', 'p2', 'p4', 'p5', 'p7', 'p8')\n",
            "('p11', 'p12', 'p13', 'p14', 'p3', 'p5')\n",
            "('p1', 'p10', 'p13', 'p3', 'p4', 'p5', 'p8', 'p9')\n",
            "('p10', 'p13', 'p14', 'p2', 'p3', 'p4', 'p5', 'p8')\n"
          ]
        }
      ]
    },
    {
      "cell_type": "code",
      "source": [
        "print(\"TOTAL NUMBER OF COMBO'S:\",len(resultset)) "
      ],
      "metadata": {
        "colab": {
          "base_uri": "https://localhost:8080/"
        },
        "id": "G6_Saj6_tWuE",
        "outputId": "694da2b0-5f64-431a-f13b-9579e7517954"
      },
      "execution_count": 18,
      "outputs": [
        {
          "output_type": "stream",
          "name": "stdout",
          "text": [
            "TOTAL NUMBER OF COMBO'S: 11\n"
          ]
        }
      ]
    }
  ]
}