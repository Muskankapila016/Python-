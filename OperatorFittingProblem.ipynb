{
  "nbformat": 4,
  "nbformat_minor": 0,
  "metadata": {
    "colab": {
      "name": "OperatorFittingProblem.ipynb",
      "provenance": [],
      "authorship_tag": "ABX9TyO2nCLAyXidV5WzRrJW/Uux",
      "include_colab_link": true
    },
    "kernelspec": {
      "name": "python3",
      "display_name": "Python 3"
    },
    "language_info": {
      "name": "python"
    }
  },
  "cells": [
    {
      "cell_type": "markdown",
      "metadata": {
        "id": "view-in-github",
        "colab_type": "text"
      },
      "source": [
        "<a href=\"https://colab.research.google.com/github/Muskankapila016/Python-/blob/main/OperatorFittingProblem.ipynb\" target=\"_parent\"><img src=\"https://colab.research.google.com/assets/colab-badge.svg\" alt=\"Open In Colab\"/></a>"
      ]
    },
    {
      "cell_type": "code",
      "execution_count": null,
      "metadata": {
        "id": "Gcj0qKFcuPNi"
      },
      "outputs": [],
      "source": [
        "#Operator Fitting Problem\n",
        "#Problem Statement:\n",
        "#Fill in the blanks with operator\n",
        "#\"6 _ 5 _ 4 _ 3 _ 2 = 32\""
      ]
    },
    {
      "cell_type": "markdown",
      "source": [
        "**Library Inclusion**\n",
        "\n",
        "\n",
        "\n"
      ],
      "metadata": {
        "id": "S5dxdbDUvMmk"
      }
    },
    {
      "cell_type": "code",
      "source": [
        "import random as r\n"
      ],
      "metadata": {
        "id": "AdQZX63IufdQ"
      },
      "execution_count": 3,
      "outputs": []
    },
    {
      "cell_type": "markdown",
      "source": [
        "**Parameter Setting**"
      ],
      "metadata": {
        "id": "UkDm6vAjv82x"
      }
    },
    {
      "cell_type": "code",
      "source": [
        "seq=['6','5','4','3','2']\n",
        "op=['+','-','*','/']\n",
        "iterations=10000\n",
        "target=32"
      ],
      "metadata": {
        "id": "bfOSzXjbvJiV"
      },
      "execution_count": null,
      "outputs": []
    },
    {
      "cell_type": "markdown",
      "source": [
        "**Starting The Program**"
      ],
      "metadata": {
        "id": "GNOuz9E9wCA9"
      }
    },
    {
      "cell_type": "code",
      "source": [
        "flag=0\n",
        "for i in range(iterations):\n",
        "    resultseq=[]\n",
        "    resultseq.append(seq[0])\n",
        "    for j in seq[1:]:\n",
        "      resultseq.append(\"\".join(r.sample(op,1)))\n",
        "      resultseq.append(j)\n",
        "    exp=\"\".join(resultseq)\n",
        "    print(exp,\" \",eval(exp))\n",
        "    if eval(exp)==target:\n",
        "        flag=1\n",
        "        break\n",
        "if flag==0:\n",
        "    print(\"NO SEQUENCE FOUND!!\")\n"
      ],
      "metadata": {
        "colab": {
          "base_uri": "https://localhost:8080/"
        },
        "id": "QNFQlV_Aufgp",
        "outputId": "64cac513-e292-421b-9ea5-346b096fdad9"
      },
      "execution_count": 4,
      "outputs": [
        {
          "output_type": "stream",
          "name": "stdout",
          "text": [
            "6-5*4*3+2   -52\n",
            "6+5/4/3+2   8.416666666666668\n",
            "6*5+4*3+2   44\n",
            "6/5-4+3*2   3.2\n",
            "6+5/4*3/2   7.875\n",
            "6/5/4+3*2   6.3\n",
            "6-5/4*3+2   4.25\n",
            "6+5-4/3-2   7.666666666666666\n",
            "6*5*4+3*2   126\n",
            "6-5/4-3/2   3.25\n",
            "6-5*4*3*2   -114\n",
            "6+5+4+3+2   20\n",
            "6/5+4*3/2   7.2\n",
            "6*5/4/3*2   5.0\n",
            "6*5*4/3/2   20.0\n",
            "6+5-4/3/2   10.333333333333334\n",
            "6/5-4*3/2   -4.8\n",
            "6+5*4+3/2   27.5\n",
            "6/5+4*3+2   15.2\n",
            "6/5+4+3*2   11.2\n",
            "6-5-4*3/2   -5.0\n",
            "6/5/4*3+2   2.9\n",
            "6-5-4*3*2   -23\n",
            "6/5*4+3+2   9.8\n",
            "6-5*4+3/2   -12.5\n",
            "6+5/4*3+2   11.75\n",
            "6/5*4-3*2   -1.2000000000000002\n",
            "6-5/4*3/2   4.125\n",
            "6*5*4-3+2   119\n",
            "6/5/4-3/2   -1.2\n",
            "6/5*4/3+2   3.5999999999999996\n",
            "6/5/4-3*2   -5.7\n",
            "6*5*4-3/2   118.5\n",
            "6*5-4/3-2   26.666666666666668\n",
            "6+5-4*3/2   5.0\n",
            "6+5-4+3*2   13\n",
            "6*5*4/3-2   38.0\n",
            "6*5*4-3/2   118.5\n",
            "6+5-4+3*2   13\n",
            "6/5-4-3/2   -4.3\n",
            "6+5/4-3*2   1.25\n",
            "6-5+4*3+2   15\n",
            "6+5-4/3/2   10.333333333333334\n",
            "6/5*4+3/2   6.3\n",
            "6*5+4*3-2   40\n",
            "6-5-4+3/2   -1.5\n",
            "6/5/4*3*2   1.7999999999999998\n",
            "6-5+4/3*2   3.6666666666666665\n",
            "6+5-4/3-2   7.666666666666666\n",
            "6/5/4*3+2   2.9\n",
            "6-5+4/3+2   4.333333333333333\n",
            "6/5*4*3/2   7.199999999999999\n",
            "6+5-4*3/2   5.0\n",
            "6/5+4*3-2   11.2\n",
            "6/5*4*3-2   12.399999999999999\n",
            "6/5-4/3/2   0.5333333333333333\n",
            "6*5*4+3+2   125\n",
            "6/5/4+3-2   1.2999999999999998\n",
            "6-5*4-3+2   -15\n",
            "6-5/4*3/2   4.125\n",
            "6-5+4/3+2   4.333333333333333\n",
            "6*5*4/3-2   38.0\n",
            "6*5-4-3*2   20\n",
            "6/5+4*3/2   7.2\n",
            "6*5/4+3/2   9.0\n",
            "6+5-4/3-2   7.666666666666666\n",
            "6/5+4/3/2   1.8666666666666667\n",
            "6-5*4/3*2   -7.333333333333334\n",
            "6+5/4*3*2   13.5\n",
            "6*5+4+3-2   35\n",
            "6*5+4*3-2   40\n",
            "6*5*4/3/2   20.0\n",
            "6-5+4+3+2   10\n",
            "6+5-4-3+2   6\n",
            "6*5+4-3*2   28\n",
            "6-5+4-3+2   4\n",
            "6*5+4/3+2   33.33333333333333\n",
            "6*5+4/3+2   33.33333333333333\n",
            "6+5/4/3-2   4.416666666666667\n",
            "6*5+4*3/2   36.0\n",
            "6/5/4+3*2   6.3\n",
            "6-5-4-3*2   -9\n",
            "6*5*4+3-2   121\n",
            "6+5+4*3*2   35\n",
            "6*5+4+3-2   35\n",
            "6-5+4/3-2   0.33333333333333304\n",
            "6+5+4-3/2   13.5\n",
            "6-5+4*3+2   15\n",
            "6*5*4-3-2   115\n",
            "6+5/4*3+2   11.75\n",
            "6/5-4+3+2   2.2\n",
            "6+5-4-3-2   2\n",
            "6*5-4*3-2   16\n",
            "6*5-4+3*2   32\n"
          ]
        }
      ]
    }
  ]
}