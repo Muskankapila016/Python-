{
  "nbformat": 4,
  "nbformat_minor": 0,
  "metadata": {
    "colab": {
      "name": "SubsetProblem.ipynb",
      "provenance": [],
      "authorship_tag": "ABX9TyN7fLDlUCCJBkFV+AokFGNx",
      "include_colab_link": true
    },
    "kernelspec": {
      "name": "python3",
      "display_name": "Python 3"
    },
    "language_info": {
      "name": "python"
    }
  },
  "cells": [
    {
      "cell_type": "markdown",
      "metadata": {
        "id": "view-in-github",
        "colab_type": "text"
      },
      "source": [
        "<a href=\"https://colab.research.google.com/github/Muskankapila016/Python-/blob/main/SubsetProblem.ipynb\" target=\"_parent\"><img src=\"https://colab.research.google.com/assets/colab-badge.svg\" alt=\"Open In Colab\"/></a>"
      ]
    },
    {
      "cell_type": "markdown",
      "source": [
        "Find all the subsets from a set of numbers whose sum is zero.\n",
        "\n",
        "Constraint: Subset size must be 5"
      ],
      "metadata": {
        "id": "v7Utc5iZzMlr"
      }
    },
    {
      "cell_type": "markdown",
      "source": [
        "1.LIBRARY INCLUSION"
      ],
      "metadata": {
        "id": "87iU_ZQnzQwe"
      }
    },
    {
      "cell_type": "code",
      "execution_count": 1,
      "metadata": {
        "id": "YeGSfSjezG2I"
      },
      "outputs": [],
      "source": [
        "import random as r"
      ]
    },
    {
      "cell_type": "markdown",
      "source": [
        "2.PARAMETER SETTING"
      ],
      "metadata": {
        "id": "xcrmCGP1zYPZ"
      }
    },
    {
      "cell_type": "code",
      "source": [
        "Set = set([-12, -3, -6, 7, 2, -2, 6, 3, 9, -7, -5, -8, 1, 11, -9, -4])\n",
        "size =5\n",
        "iterations=1000\n",
        "resultset=set()#unique property"
      ],
      "metadata": {
        "id": "y-kvcJGYzW53"
      },
      "execution_count": 2,
      "outputs": []
    },
    {
      "cell_type": "markdown",
      "source": [
        "3.RUN THE PROGRAM"
      ],
      "metadata": {
        "id": "Bc8jw0HGzg1x"
      }
    },
    {
      "cell_type": "code",
      "source": [
        "for i in range(iterations):\n",
        "    n=r.sample(Set,size)\n",
        "    n.sort()\n",
        "    if sum(n) == 0:\n",
        "        resultset.add(tuple(n))\n",
        "for r in resultset:\n",
        "    print(r)\n",
        "print(\"TOTAL NUMBER OF SETS:\",len(resultset)) "
      ],
      "metadata": {
        "colab": {
          "base_uri": "https://localhost:8080/"
        },
        "id": "laAp1HLazW77",
        "outputId": "1373ffe2-f778-46b8-d2e2-1356f4fecdde"
      },
      "execution_count": 3,
      "outputs": [
        {
          "output_type": "stream",
          "name": "stdout",
          "text": [
            "(-7, -4, 2, 3, 6)\n",
            "(-12, -7, 1, 7, 11)\n",
            "(-6, -5, -2, 6, 7)\n",
            "(-6, -5, -2, 2, 11)\n",
            "(-8, -6, 1, 6, 7)\n",
            "(-7, -6, -5, 7, 11)\n",
            "(-12, -2, 1, 2, 11)\n",
            "(-5, -3, -2, 1, 9)\n",
            "(-7, -6, 1, 3, 9)\n",
            "(-7, -4, -2, 2, 11)\n",
            "(-12, -8, 2, 7, 11)\n",
            "(-9, -5, -2, 7, 9)\n",
            "(-5, -4, -2, 2, 9)\n",
            "(-8, -5, -2, 6, 9)\n",
            "(-6, -4, 1, 3, 6)\n",
            "(-9, -6, -3, 7, 11)\n",
            "(-12, -5, -3, 9, 11)\n",
            "(-8, -6, -4, 7, 11)\n",
            "(-9, -8, -3, 9, 11)\n",
            "(-5, -4, -3, 3, 9)\n",
            "(-12, -4, 3, 6, 7)\n",
            "(-6, -5, -3, 3, 11)\n",
            "(-8, -7, 2, 6, 7)\n",
            "(-7, -3, -2, 3, 9)\n",
            "(-12, -3, -2, 6, 11)\n",
            "(-9, -5, 1, 6, 7)\n",
            "(-7, -3, 1, 2, 7)\n",
            "(-7, -6, -2, 6, 9)\n",
            "TOTAL NUMBER OF SETS: 28\n"
          ]
        }
      ]
    },
    {
      "cell_type": "markdown",
      "source": [
        "Find all the subsets from a set of numbers whose sum is zero.\n",
        "\n",
        "Constraint: Subset size must be 3 to 6 only"
      ],
      "metadata": {
        "id": "v3drKpaQzmqQ"
      }
    },
    {
      "cell_type": "markdown",
      "source": [
        "1.LIBRARY INCLUSION"
      ],
      "metadata": {
        "id": "wM6vlprAz3_0"
      }
    },
    {
      "cell_type": "code",
      "source": [
        "import random as r"
      ],
      "metadata": {
        "id": "rxGWGOZTzjpM"
      },
      "execution_count": 4,
      "outputs": []
    },
    {
      "cell_type": "markdown",
      "source": [
        "2.PARAMETER SETTING"
      ],
      "metadata": {
        "id": "8WQ0p4fdz80_"
      }
    },
    {
      "cell_type": "code",
      "source": [
        "Set = set([-12, -3, -6, 7, 2, -2, 6, 3, 9, -7, -5, -8, 1, 11, -9, -4])\n",
        "setlb=3\n",
        "setub=6\n",
        "iterations=1000\n",
        "resultset=set()"
      ],
      "metadata": {
        "id": "BXTgT4l_zW-E"
      },
      "execution_count": 5,
      "outputs": []
    },
    {
      "cell_type": "markdown",
      "source": [
        "3.RUN THE PROGRAM"
      ],
      "metadata": {
        "id": "uAWLSEHM0AXq"
      }
    },
    {
      "cell_type": "code",
      "source": [
        "for i in range(iterations):\n",
        "    size=r.randint(setlb,setub)\n",
        "    n=r.sample(Set,size)\n",
        "    n.sort()\n",
        "    if sum(n)==0:\n",
        "        resultset.add(tuple(n))\n",
        "for n in resultset:\n",
        "    print(n)\n",
        "print(\"TOTAL NUMBER OF SUBSETS ARE:\",len(resultset))  "
      ],
      "metadata": {
        "colab": {
          "base_uri": "https://localhost:8080/"
        },
        "id": "HMgnUtYJzXBj",
        "outputId": "2b54d243-9520-41e2-d8fa-372674104078"
      },
      "execution_count": 6,
      "outputs": [
        {
          "output_type": "stream",
          "name": "stdout",
          "text": [
            "(-6, -5, 11)\n",
            "(-4, -2, 6)\n",
            "(-6, -4, 1, 9)\n",
            "(-4, -3, -2, 2, 7)\n",
            "(-7, -3, -2, 3, 9)\n",
            "(-12, -8, -3, 3, 9, 11)\n",
            "(-3, 1, 2)\n",
            "(-8, -7, -3, 1, 6, 11)\n",
            "(-7, -5, 1, 11)\n",
            "(-5, -3, -2, 1, 9)\n",
            "(-12, 3, 9)\n",
            "(-8, 1, 7)\n",
            "(-7, 1, 6)\n",
            "(-7, -4, 11)\n",
            "(-9, -6, 6, 9)\n",
            "(-8, -2, 3, 7)\n",
            "TOTAL NUMBER OF SUBSETS ARE: 16\n"
          ]
        }
      ]
    }
  ]
}