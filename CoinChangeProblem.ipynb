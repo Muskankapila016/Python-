{
  "nbformat": 4,
  "nbformat_minor": 0,
  "metadata": {
    "colab": {
      "name": "CoinChangeProblem.ipynb",
      "provenance": [],
      "authorship_tag": "ABX9TyMn9y5bjCOr/78JUCs1pK4g",
      "include_colab_link": true
    },
    "kernelspec": {
      "name": "python3",
      "display_name": "Python 3"
    },
    "language_info": {
      "name": "python"
    }
  },
  "cells": [
    {
      "cell_type": "markdown",
      "metadata": {
        "id": "view-in-github",
        "colab_type": "text"
      },
      "source": [
        "<a href=\"https://colab.research.google.com/github/Muskankapila016/Python-/blob/main/CoinChangeProblem.ipynb\" target=\"_parent\"><img src=\"https://colab.research.google.com/assets/colab-badge.svg\" alt=\"Open In Colab\"/></a>"
      ]
    },
    {
      "cell_type": "markdown",
      "source": [
        "Problem Statement:\n",
        "There are coins of Rs 1, 5, 10 and 20. How many minimum number of coins are required to make Rs 1125.\n",
        "Constraints: Total number of coins must be multiple of 5"
      ],
      "metadata": {
        "id": "p1TM7wIYxnBV"
      }
    },
    {
      "cell_type": "markdown",
      "source": [
        "\n",
        "\n",
        "1.LIBRARY INCLUSION\n",
        "\n",
        "\n"
      ],
      "metadata": {
        "id": "E2vrtOtXxwZd"
      }
    },
    {
      "cell_type": "code",
      "execution_count": null,
      "metadata": {
        "id": "vJbT_nhuxjig"
      },
      "outputs": [],
      "source": [
        "import random as r      "
      ]
    },
    {
      "cell_type": "markdown",
      "source": [
        "2.PARAMETER SETTING"
      ],
      "metadata": {
        "id": "lqBUA00UyCKu"
      }
    },
    {
      "cell_type": "code",
      "source": [
        "coinList=[1,5,10,20]\n",
        "target=1125\n",
        "iterations=1000\n",
        "a=5\n",
        "resultSet=set()\n",
        "flag=0"
      ],
      "metadata": {
        "id": "4CIDOTfRxsSs"
      },
      "execution_count": null,
      "outputs": []
    },
    {
      "cell_type": "markdown",
      "source": [
        "3.START THE PROGRAM"
      ],
      "metadata": {
        "id": "mEqs0ORuyJcu"
      }
    },
    {
      "cell_type": "code",
      "source": [
        "for i in range(iterations):\n",
        "    coinCount=[a*r.randint(0,14) for i in range(len(coinList))]\n",
        "    coinCost=[a*b for a,b in zip(coinCount,coinList)]\n",
        "    coinSum=sum(coinCost)\n",
        "    if coinSum==target :\n",
        "       flag=1\n",
        "       resultSet.add(tuple(coinCount))\n",
        "       print(\"coinCount:\",coinCount,coinCost,coinSum)\n",
        "if flag==0:\n",
        "    print(\"NO SEQUENCE FOUND!!!!\")    \n",
        "print(\"TOTAL SETS FORMED ARE==>\",len(resultSet),\"\\n\")"
      ],
      "metadata": {
        "id": "Looloi7txsj_"
      },
      "execution_count": null,
      "outputs": []
    },
    {
      "cell_type": "markdown",
      "source": [
        "4.PRINT THE MINIMUM NUMBER OF COINS"
      ],
      "metadata": {
        "id": "SmbeM7eRya0M"
      }
    },
    {
      "cell_type": "code",
      "source": [
        "MinSum=999999\n",
        "minList=0\n",
        "for r in resultSet:\n",
        "    if sum(r)<minSum:\n",
        "        minSum=sum(r)\n",
        "        minList=r\n",
        "\n",
        "print(\"MINIMUM NUMBER OF COINS ARE: \",sum(minList),minList) "
      ],
      "metadata": {
        "id": "8t0LXKtBxsnS"
      },
      "execution_count": null,
      "outputs": []
    },
    {
      "cell_type": "markdown",
      "source": [
        ""
      ],
      "metadata": {
        "id": "QuNkp_q5xkGd"
      }
    }
  ]
}