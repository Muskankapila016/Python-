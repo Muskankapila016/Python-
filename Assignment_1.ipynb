{
  "nbformat": 4,
  "nbformat_minor": 0,
  "metadata": {
    "colab": {
      "name": "Assignment 1",
      "provenance": [],
      "collapsed_sections": [],
      "mount_file_id": "1FyWVG-IkV7_7SVa5RQLIqmnqbGKjz5nd",
      "authorship_tag": "ABX9TyMT/G/fwwdohmdSdRdj5kZe",
      "include_colab_link": true
    },
    "kernelspec": {
      "name": "python3",
      "display_name": "Python 3"
    },
    "language_info": {
      "name": "python"
    }
  },
  "cells": [
    {
      "cell_type": "markdown",
      "metadata": {
        "id": "view-in-github",
        "colab_type": "text"
      },
      "source": [
        "<a href=\"https://colab.research.google.com/github/Muskankapila016/Python-/blob/main/Assignment_1.ipynb\" target=\"_parent\"><img src=\"https://colab.research.google.com/assets/colab-badge.svg\" alt=\"Open In Colab\"/></a>"
      ]
    },
    {
      "cell_type": "markdown",
      "source": [
        "QUESTION ***1*** L is a list defined as L= [11, 12, 13, 14].\n",
        "(i) WAP to add 50 and 60 to L.\n",
        "(ii) WAP to remove 11 and 13from L.\n",
        "(iii) WAP to sort L in ascending order.\n",
        "(iv) WAP to sort L in descending order.\n",
        "(v) WAP to search for 13 in L.\n",
        "(vi) WAP to count the number of elements present in L.\n",
        "(vii) WAP to sum all the elements in L.\n",
        "(viii) WAP to sum all ODD numbers in L.\n",
        "(ix) WAP to sum all EVEN numbers in L.\n",
        "(x) WAP to sum all PRIME numbers in L.\n",
        "(xi) WAP to clear all the elements in L.\n",
        "(xii) WAP to delete L."
      ],
      "metadata": {
        "id": "N9foZkdryJuk"
      }
    },
    {
      "cell_type": "code",
      "execution_count": null,
      "metadata": {
        "id": "QcsVWDPKwn_3"
      },
      "outputs": [],
      "source": [
        "l=[11,12,13,14]\n",
        "print(\"ORGINAL LIST>>>\",l)\n",
        "l.append(50)\n",
        "l.append(60)\n",
        "print(\"LIST AFTER ADDING ELEMENTS IS>>>\",l)\n",
        "\n",
        "del l[0]\n",
        "print(\"LIST AFTER DELETING 13 IS>>>\",l)\n",
        "del l[1]\n",
        "print(\"LIST AFTER DELETING 14 IS>>>\",l)\n",
        "\n",
        "l.sort()\n",
        "print(\"LIST AFTER SORTING ELEMENTS IN ASCENDING ORDER IS>>>\",l)\n",
        "\n",
        "l.sort(reverse=True)\n",
        "print(\"LIST AFTER SORTING ELEMENTS IN DESCENDING ORDER IS>>>\",l)\n",
        "\n",
        "if(13 in l):\n",
        "  print(\" 13 IS PRESENT\")\n",
        "else:\n",
        "  print(\"13 IS NOT PRESENT\")  \n",
        "\n",
        "print(\"TOTAL NUMBER OF ELEMENTS PRESENT IN LIST IS==>\",len(l))\n",
        "\n",
        "sum =0\n",
        "for i in range(len(l)):\n",
        "  sum=sum+l[i]\n",
        "print(\"SUM OF ELEMENTS IN LIST IS>>\",sum) \n",
        "\n",
        "sum=0\n",
        "for i in range(len(l)):\n",
        "  if l[i]%2!=0:\n",
        "    sum=sum+l[i]\n",
        "print(\"SUM OF ODD ELEMENTS IN LIST IS>>>\",sum)\n",
        "\n",
        "sum=0\n",
        "for i in range(len(l)):\n",
        "  if l[i]%2==0:\n",
        "    sum=sum+l[i]\n",
        "print(\"SUM OF EVEN ELEMENTS IN LIST IS>>>\",sum)\n",
        "\n",
        "def isPrime(n):\n",
        "  f=0\n",
        "  for i in range(2,n//2 +1):\n",
        "    if n%i==0:\n",
        "      f=1\n",
        "  if f ==0:\n",
        "   return True\n",
        "  else:\n",
        "    return False \n",
        "\n",
        "sum=0\n",
        "for i in range(len(l)):\n",
        "  if isPrime(l[i]):\n",
        "    sum=sum+l[i]\n",
        "print(\"SUM OF PRIME ELEMENTS IN LIST IS>>>\",sum)\n",
        "\n",
        "l.clear();\n",
        "print(\"NOW LIST IS \",l)\n",
        "\n",
        "del l\n"
      ]
    },
    {
      "cell_type": "markdown",
      "source": [
        "Q2. D is a dictionary defined as D= {1:5.6, 2:7.8, 3:6.6, 4:8.7, 5:7.7}.\n",
        "(i) WAP to add new entry in D; key=8 and value is 8.8\n",
        "(ii) WAP to remove key=2.\n",
        "(iii) WAP to check weather 6 key is present in D.\n",
        "(iv) WAP to count the number of elements present in D.\n",
        "(v) WAP to add all the values present D.\n",
        "(vi) WAP to update the value of 3 to 7.1.\n",
        "(vii) WAP to clear the dictionary."
      ],
      "metadata": {
        "id": "W0qFUAR27X1-"
      }
    },
    {
      "cell_type": "code",
      "source": [
        "D = {1:5.6, 2:7.8, 3:6.6, 4:8.7, 5:7.7}\n",
        "D[8]=8.8\n",
        "print(\"AFTER ADDING>>>\",D)\n",
        "\n",
        "del D[2]\n",
        "print(\"AFTER DELETEING>>>\",D)\n",
        "\n",
        "print(\"IS 6 PRESENT IN D:\",6 in D)\n",
        "\n",
        "print(\"NUMBER OF EELMENTS IN D:\",len(D))\n",
        "\n",
        "sum =0\n",
        "for k in D:\n",
        "  sum=sum+D[k]\n",
        "print(\"SUM OF ELEMENTS:\",sum)  \n",
        "\n",
        "D[3]=7.1\n",
        "print(\"AFTER UPDATING>>>\",D)\n",
        "\n",
        "D.clear()\n",
        "print(\"AFTER CLEARING>>>\",D)\n"
      ],
      "metadata": {
        "id": "79DbaSQFzZbu"
      },
      "execution_count": null,
      "outputs": []
    },
    {
      "cell_type": "markdown",
      "source": [
        "Q3. S1 is a set defined as S1= [10, 20, 30, 40, 50, 60].\n",
        "S2 is a set defined as S2= [40, 50, 60, 70, 80, 90].\n",
        "(i) WAP to add 55 and 66 in Set S1.\n",
        "(ii) WAP to remove 10 and 30 from Set S1.\n",
        "(iii) WAP to check whether 40 is present in S1.\n",
        "(iv) WAP to find the union between S1 and S2.\n",
        "(v) WAP to find the intersection between S1 and S2.\n",
        "(vi) WAP to find the S1 - S2"
      ],
      "metadata": {
        "id": "FVWDHeXp_-xJ"
      }
    },
    {
      "cell_type": "code",
      "source": [
        "S1= set([10, 20, 30, 40, 50, 60])\n",
        "S2= set([40, 50, 60, 70, 80, 90])\n",
        "print(\"S1:\",S1)\n",
        "print(\"S2:\",S2)\n",
        "S1.add(55)\n",
        "S1.add(66)\n",
        "print(\"AFTER ADDING..S1:\",S1)\n",
        "\n",
        "S1.remove(10)\n",
        "S1.remove(30)\n",
        "print(\"AFTER DELETING..S1:\",S1)\n",
        "\n",
        "print(\"IS 40 PRESENT:\",40 in S1)\n",
        "\n",
        "print(\"UNION OF S1 AND S2 IS \",S1.union(S2))\n",
        "\n",
        "print(\"S1 - S2 = \",S1 - S2)\n"
      ],
      "metadata": {
        "id": "kCmxQtf5_6ug"
      },
      "execution_count": null,
      "outputs": []
    },
    {
      "cell_type": "markdown",
      "source": [
        "Q4. Write the following program.\n",
        "(i) WAP to print 100 random strings whose length between 6 and 8.\n",
        "(ii) WAP to print all prime numbers between 600 and 800.\n",
        "(iii) WAP to print all numbers between 100 and 1000 that are divisible by 7 and 9."
      ],
      "metadata": {
        "id": "brNiFrKQDFAZ"
      }
    },
    {
      "cell_type": "code",
      "source": [
        "import string as s\n",
        "import random as r\n",
        "print(s.ascii_letters)\n",
        "\n",
        "\n",
        "for i in range(100):\n",
        "  m=r.randint(6,8)\n",
        "  n=r.sample(s.ascii_uppercase,m)\n",
        "  n1=\"\".join(n)\n",
        "  print(n1)\n",
        "  \n",
        "def isPrime(n):\n",
        "  f=0\n",
        "  for i in range(2,n//2 +1):\n",
        "    if n%i==0:\n",
        "      f=1\n",
        "  if f ==0:\n",
        "   return True\n",
        "  else:\n",
        "    return False \n",
        "print(\"PRIME NUMBERS BETWEEN 600 AND 800 ARE\")\n",
        "for i in range(600,801):\n",
        "  if isPrime(i):\n",
        "    print(i)\n",
        "\n",
        "print(\"NUMBER DIVISIBLE BY 7 AND 9 ARE\")    \n",
        "\n",
        "for i in range(100,1001):\n",
        "  if i%7==0 and i%9==0:\n",
        "    print(i)\n",
        "   \n",
        " \n",
        "  "
      ],
      "metadata": {
        "id": "kXUFRvZrC_Dm"
      },
      "execution_count": null,
      "outputs": []
    },
    {
      "cell_type": "markdown",
      "source": [
        "Q5. WAP to create two lists of 10 random numbers between 10 and 30; Find\n",
        "(i) Common numbers in the two lists\n",
        "\n",
        "(ii) Unique numbers in both the list\n",
        "(iii) Minimum in both the list\n",
        "(iv) Maximum in both the list\n",
        "(v) Sum of both the lists"
      ],
      "metadata": {
        "id": "dhbgHvj3T9TV"
      }
    },
    {
      "cell_type": "code",
      "source": [
        "import random as r\n",
        "a=[10,11,12,13,14,15,16,17,18,19,20,21,22,23,24,25,26,27,28,29,30]\n",
        "set1=r.sample(a,10)#r.sample(range(10,31),10)\n",
        "set2=r.sample(a,10)\n",
        "print(\"SET1:\",set1)\n",
        "print(\"SET2:\",set2)\n",
        "\n",
        "print(\"Common numbers in the two lists:\",list(set(set1).intersection(set(set2))))\n",
        "\n",
        "print(\"MINIMUM IN SET1:\",min(set1))\n",
        "print(\"MINIMUM IN SET2:\",min(set2))\n",
        "\n",
        "print(\"MAZIMUM IN SET1:\",max(set1))\n",
        "print(\"MAXIMUM IN SET2:\", max(set2))\n",
        "\n",
        "sum1=0\n",
        "sum2=0\n",
        "for i in range(10):\n",
        "  sum1=sum1+set1[i]\n",
        "  sum2=sum2+set2[i]\n",
        "print(\"SUM OF SET1 AND SET 2:\",sum1+sum2 )"
      ],
      "metadata": {
        "id": "i66lbtXWC_s9"
      },
      "execution_count": null,
      "outputs": []
    },
    {
      "cell_type": "markdown",
      "source": [
        "Q6. WAP to create a list of 100 random numbers between 100 and 900. Count and print the:\n",
        "(i) All odd numbers\n",
        "(ii) All even numbers\n",
        "(iii) All prime numbers"
      ],
      "metadata": {
        "id": "2kbkJqdpc_J7"
      }
    },
    {
      "cell_type": "code",
      "source": [
        "list1=r.sample(range(100,900),100)\n",
        "\n",
        "print(\"LIST1:\",list1)\n",
        "\n",
        "\n",
        "sum=0\n",
        "count=0\n",
        "for i in range(len(list1)):\n",
        "  if list1[i]%2!=0:\n",
        "    sum=sum+list1[i]\n",
        "    count+=1\n",
        "              \n",
        "print(f\"SUM OF {count} ODD ELEMENTS IN LIST IS>>>{sum}\")\n",
        "\n",
        "sum=0\n",
        "count=0\n",
        "for i in range(len(list1)):\n",
        "  if list1[i]%2==0:\n",
        "    sum=sum+list1[i]\n",
        "    count+=1\n",
        "              \n",
        "print(f\"SUM OF {count} EVEN ELEMENTS IN LIST IS>>>{sum}\")\n",
        "\n",
        "def isPrime(n):\n",
        "  f=0\n",
        "  for i in range(2,n//2 +1):\n",
        "    if n%i==0:\n",
        "      f=1\n",
        "  if f ==0:\n",
        "   return True\n",
        "  else:\n",
        "    return False \n",
        "\n",
        "sum=0\n",
        "count=0\n",
        "for i in range(len(list1)):\n",
        "  if isPrime(list1[i]):\n",
        "    sum=sum+list1[i]\n",
        "    count+=1\n",
        "\n",
        "print(f\"SUM OF {count} PRIME ELEMENTS IN LIST IS>>>{sum}\")\n",
        "\n"
      ],
      "metadata": {
        "colab": {
          "base_uri": "https://localhost:8080/"
        },
        "id": "mIwxmiiFdDM6",
        "outputId": "d193c919-ef25-45ee-dc41-5ef5ae13efa1"
      },
      "execution_count": null,
      "outputs": [
        {
          "output_type": "stream",
          "name": "stdout",
          "text": [
            "LIST1: [392, 558, 453, 657, 651, 600, 155, 817, 189, 313, 757, 178, 510, 765, 253, 723, 485, 700, 330, 859, 292, 841, 740, 263, 271, 241, 507, 123, 157, 472, 851, 363, 676, 506, 799, 738, 891, 406, 742, 557, 375, 402, 585, 168, 580, 220, 779, 630, 306, 555, 282, 433, 836, 776, 257, 534, 704, 860, 632, 422, 414, 121, 116, 217, 562, 727, 680, 283, 394, 691, 455, 100, 792, 470, 796, 826, 516, 355, 258, 353, 265, 529, 849, 285, 563, 238, 636, 495, 312, 750, 379, 384, 541, 206, 801, 766, 219, 550, 725, 436]\n",
            "LIST2: [732, 347, 488, 487, 126, 194, 889, 863, 135, 249, 140, 584, 144, 465, 518, 253, 469, 611, 861, 311, 230, 142, 275, 181, 214, 781, 422, 874, 243, 841, 869, 876, 817, 401, 564, 246, 867, 875, 190, 569, 524, 729, 430, 257, 767, 561, 845, 110, 859, 676, 195, 711, 300, 603, 456, 274, 493, 378, 778, 427, 164, 463, 812, 854, 308, 536, 320, 844, 336, 515, 828, 105, 736, 385, 837, 382, 358, 810, 262, 442, 260, 562, 628, 667, 805, 588, 307, 431, 138, 128, 816, 131, 137, 183, 156, 371, 829, 646, 294, 242]\n",
            "SUM OF 50 ODD ELEMENTS IN LIST IS>>>24778\n",
            "SUM OF 50 EVEN ELEMENTS IN LIST IS>>>25394\n",
            "SUM OF 17 PRIME ELEMENTS IN LIST IS>>>7645\n"
          ]
        }
      ]
    },
    {
      "cell_type": "markdown",
      "source": [
        "Q7. D is a dictionary defined as D={1:\"One\",2:\"Two\",3:\"Three\",4:\"Four\", 5:\"Five\"}.\n",
        "WAP to read all the keys and values from dictionary and write to the file in the given below format.\n",
        "Key1, Value1\n",
        "Key2, Value2\n",
        "Key3, Value3"
      ],
      "metadata": {
        "id": "yDNydNLafUet"
      }
    },
    {
      "cell_type": "code",
      "source": [
        "d={1:\"One\",2:\"Two\",3:\"Three\",4:\"Four\", 5:\"Five\"}\n",
        "file = open(\"Dictionary.txt\",\"a\")\n",
        "for i in d:\n",
        "  file.write(f\"{i},{d[i]}\\n\")\n",
        "print(\"WRITING DONE!!!\\n OPEN Dictionary.txt TO VIEW THIS FILE\")\n",
        "\n",
        "with open(\"Dictionary.txt\") as file:\n",
        "  for line in file:\n",
        "    print(line.rstrip())\n",
        "\n",
        "\n"
      ],
      "metadata": {
        "id": "9XrhuG87fZmy"
      },
      "execution_count": null,
      "outputs": []
    },
    {
      "cell_type": "markdown",
      "source": [
        "Q8. L is a list defined as L={\"One\",\"Two\",\"Three\",\"Four\",\"Five\"}.\n",
        "WAP to count the length of reach element from a list and write to the file in the given below format:\n",
        "One, 3\n",
        "Two, 3\n",
        "Four, 4"
      ],
      "metadata": {
        "id": "GQDctjKiZ4hg"
      }
    },
    {
      "cell_type": "code",
      "source": [
        " l=[\"One\",\"Two\",\"Three\",\"Four\",\"Five\"]\n",
        "file = open(\"List.txt\",\"a\")\n",
        "for i in range(len(l)):\n",
        "  Len=len(l[i])\n",
        "  ele=l[i]\n",
        "  file.write(f\"{ele} {Len}\\n\")\n",
        "  \n",
        "file.close() "
      ],
      "metadata": {
        "id": "dTBcClUJZrYU"
      },
      "execution_count": null,
      "outputs": []
    },
    {
      "cell_type": "markdown",
      "source": [
        "Q9. Write to the file 100 random strings whose length between 10 and 15."
      ],
      "metadata": {
        "id": "iT1H4CXsZ_S-"
      }
    },
    {
      "cell_type": "code",
      "source": [
        "import random as r\n",
        "import string as s\n",
        "file=open(\"RandomStrings.txt\",\"a\")\n",
        "for i in range(100):\n",
        "  n=r.randint(10,15)\n",
        "  Str=r.sample(s.ascii_letters,n)\n",
        "  file.write(f\"i:{Str}\\n\")\n",
        "file.close()  "
      ],
      "metadata": {
        "id": "IVSp5yvbZq6M"
      },
      "execution_count": null,
      "outputs": []
    },
    {
      "cell_type": "markdown",
      "source": [
        "Q10. Write to the file all prime numbers between 600 and 800."
      ],
      "metadata": {
        "id": "3iyK7-fTaLOf"
      }
    },
    {
      "cell_type": "code",
      "source": [
        "\n",
        "def isPrime(n):\n",
        "  f=0\n",
        "  for i in range(2,n//2 +1):\n",
        "    if n%i==0:\n",
        "      f=1\n",
        "  if f ==0:\n",
        "   return True\n",
        "  else:\n",
        "    return False \n",
        "file=open(\"PrimeNumbers.txt\",\"a\")\n",
        "for i in range(600,801):\n",
        "  if isPrime(i):\n",
        "    file.write(f\"{i}\\n\")\n",
        "file.close()  "
      ],
      "metadata": {
        "id": "JuadzobVaKv5"
      },
      "execution_count": null,
      "outputs": []
    },
    {
      "cell_type": "markdown",
      "source": [
        "Q11. WAP to calculate the time taken by a program."
      ],
      "metadata": {
        "id": "XTkfdohFq860"
      }
    },
    {
      "cell_type": "code",
      "source": [
        "import time as t\n",
        "  \n",
        "begin = t.time()\n",
        "  \n",
        "for i in range(5):\n",
        "    print(\"MUSKAN\")\n",
        "  \n",
        "end = t.time()\n",
        "  \n",
        "print(f\"Total runtime of the program is {end - begin}\")"
      ],
      "metadata": {
        "colab": {
          "base_uri": "https://localhost:8080/"
        },
        "id": "aA54d-x2faq4",
        "outputId": "d148cec9-8a58-4219-b7aa-d1320e76c8d5"
      },
      "execution_count": null,
      "outputs": [
        {
          "output_type": "stream",
          "name": "stdout",
          "text": [
            "MUSKAN\n",
            "MUSKAN\n",
            "MUSKAN\n",
            "MUSKAN\n",
            "MUSKAN\n",
            "Total runtime of the program is 0.0038475990295410156\n"
          ]
        }
      ]
    },
    {
      "cell_type": "markdown",
      "source": [
        "Q12. WAP to sort following number of elements in a list, calculate time taken and plot the graph.Number of elements in list Time Taken\n",
        "50k T1\n",
        "100k T2\n",
        "150k T3\n",
        "200k T4\n",
        "250k T5"
      ],
      "metadata": {
        "id": "k93hWdQ2a_cD"
      }
    },
    {
      "cell_type": "code",
      "source": [
        "import random as r\n",
        "import time\n",
        "L = []\n",
        "# for T1\n",
        "start = time.time()\n",
        "for i in range(50000):\n",
        "  L.append(r.randint(1,1000))\n",
        "L.sort()\n",
        "end = time.time()\n",
        "T1 = end - start\n",
        "print(T1)\n",
        "# For T2\n",
        "start = time.time()\n",
        "for i in range(100000):\n",
        "  L.append(r.randint(1,10000))\n",
        "L.sort()\n",
        "end = time.time()\n",
        "T2 = end - start\n",
        "print(T2)\n",
        "# For T3\n",
        "start = time.time()\n",
        "for i in range(150000):\n",
        "  L.append(r.randint(1,1500))\n",
        "L.sort()\n",
        "end = time.time()\n",
        "T3 = end - start\n",
        "print(T3)\n",
        "# For T4\n",
        "start = time.time()\n",
        "for i in range(200000):\n",
        "  L.append(r.randint(1,1000))\n",
        "L.sort()\n",
        "end = time.time()\n",
        "T4 = end - start\n",
        "print(T4)\n",
        "# for T5\n",
        "start = time.time()\n",
        "for i in range(250000): \n",
        "  L.append(r.randint(1,1000))\n",
        "L.sort()\n",
        "end = time.time()\n",
        "T5 = end - start\n",
        "print(T5)\n"
      ],
      "metadata": {
        "id": "xCebQ3gUZtBo",
        "colab": {
          "base_uri": "https://localhost:8080/"
        },
        "outputId": "5024678b-7606-4f3c-e1e0-8af07b235e69"
      },
      "execution_count": null,
      "outputs": [
        {
          "output_type": "stream",
          "name": "stdout",
          "text": [
            "0.07320094108581543\n",
            "0.1558222770690918\n",
            "0.23694229125976562\n",
            "0.2961463928222656\n",
            "0.37708330154418945\n"
          ]
        }
      ]
    },
    {
      "cell_type": "markdown",
      "source": [
        "Q13. WAP to create a dictionary of student marks in five subjects and you have to find the student\n",
        "having maximum and minimum average marks."
      ],
      "metadata": {
        "id": "h5aDSfjKwZ4j"
      }
    },
    {
      "cell_type": "code",
      "source": [
        "d=dict()\n",
        "n=int(input(\"ENTER THE NUMBER OF STUDENTS :\"))\n",
        "for i in range(n):\n",
        "  name=input(\"ENTER STUDENT NAME : \")\n",
        "  l=[]\n",
        "  for j in range(5):\n",
        "    marks=int(input(\"ENTER MARKS : \"))\n",
        "    l.append(marks)\n",
        "  d[name]=l\n",
        "print('DICTIONARY OF STUDENT CREATED')\n",
        "print(d)    \n",
        "sum=0\n",
        "min=1000000\n",
        "max=0\n",
        "for k in d:\n",
        "  for i in d[k]:9\n",
        "    sum=sum+i\n",
        "    if sum/len(d[k])>max:\n",
        "      max=sum/len(d[k])\n",
        "      nameMax=k\n",
        "    elif sum/len(d[k])<min:\n",
        "      min=sum/len(d[k])\n",
        "      nameMin=k \n",
        "\n",
        "print(\"Student with maximum average ==> \",nameMax)\n",
        "print(\"Student with min average ==> \",nameMin)\n",
        "\n",
        "\n",
        "\n",
        "  "
      ],
      "metadata": {
        "id": "twcRg_FHwbhK"
      },
      "execution_count": null,
      "outputs": []
    },
    {
      "cell_type": "markdown",
      "source": [
        "*** Write a python program to sort the list of heterogeneous data.***"
      ],
      "metadata": {
        "id": "j9eKMpseja9p"
      }
    },
    {
      "cell_type": "code",
      "source": [
        "res1=[]\n",
        "res2=[]\n",
        "l=[\"abc\",\"xyz\",6,8,\"pqr\",-1,4,\"a\"]\n",
        "for j in l:\n",
        "    if(type(j)==int):\n",
        "        res1.append(j)\n",
        "    elif(type(j)==str):\n",
        "        res2.append(j)\n",
        "print(\"Integer list:  \" ,res1)\n",
        "print(\"String List: \" ,res2)\n",
        "\n",
        "res1.sort()\n",
        "res2.sort()\n",
        "\n",
        "print(\"INTIALLY THE LIST IS:\",l)\n",
        "print(\"SORTED LIST IS:\",res1+res2)\n"
      ],
      "metadata": {
        "id": "ok0oUSYRjaaq",
        "colab": {
          "base_uri": "https://localhost:8080/"
        },
        "outputId": "e714a93f-e152-4099-def2-727c8cbd7d53"
      },
      "execution_count": null,
      "outputs": [
        {
          "output_type": "stream",
          "name": "stdout",
          "text": [
            "Integer list:   [6, 8, -1, 4]\n",
            "String List:  ['abc', 'xyz', 'pqr', 'a']\n",
            "INTIALLY THE LIST IS: ['abc', 'xyz', 6, 8, 'pqr', -1, 4, 'a']\n",
            "SORTED LIST IS: [-1, 4, 6, 8, 'a', 'abc', 'pqr', 'xyz']\n"
          ]
        }
      ]
    }
  ]
}